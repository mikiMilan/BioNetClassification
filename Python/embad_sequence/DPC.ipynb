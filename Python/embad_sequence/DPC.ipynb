{
 "cells": [
  {
   "cell_type": "code",
   "execution_count": 27,
   "id": "initial_id",
   "metadata": {
    "collapsed": true,
    "ExecuteTime": {
     "end_time": "2024-03-14T04:47:05.259393Z",
     "start_time": "2024-03-14T04:47:05.239559Z"
    }
   },
   "outputs": [],
   "source": [
    "#!/usr/bin/env python\n",
    "#_*_coding:utf-8_*_\n",
    "\n",
    "import re\n",
    "\n",
    "def DPC(fastas, **kw):\n",
    "\tAA = kw['order'] if kw['order'] != None else 'ACDEFGHIKLMNPQRSTVWY'\n",
    "\tencodings = []\n",
    "\tdiPeptides = [aa1 + aa2 for aa1 in AA for aa2 in AA]\n",
    "\theader = ['#'] + diPeptides\n",
    "\tencodings.append(header)\n",
    "\n",
    "\tAADict = {}\n",
    "\tfor i in range(len(AA)):\n",
    "\t\tAADict[AA[i]] = i\n",
    "\n",
    "\tfor i in fastas:\n",
    "\t\tname, sequence = i[0], re.sub('\\*', '', i[1])\n",
    "\t\tcode = [name]\n",
    "\t\ttmpCode = [0] * 400\n",
    "\t\tfor j in range(len(sequence) - 2 + 1):\n",
    "\t\t\ttmpCode[AADict[sequence[j]] * 20 + AADict[sequence[j+1]]] = tmpCode[AADict[sequence[j]] * 20 + AADict[sequence[j+1]]] +1\n",
    "\t\tif sum(tmpCode) != 0:\n",
    "\t\t\ttmpCode = [i/sum(tmpCode) for i in tmpCode]\n",
    "\t\tcode = code + tmpCode\n",
    "\t\tencodings.append(code)\n",
    "\treturn encodings"
   ]
  },
  {
   "cell_type": "code",
   "outputs": [],
   "source": [
    "sequence = []\n",
    "with open('../../data/sequences.txt', 'r') as file_seq:\n",
    "    for line in file_seq:\n",
    "        line = line.strip()\n",
    "        fasta = line.split(\" \")\n",
    "        sequence.append([fasta[0], fasta[2]])\n",
    "sequence = sequence[:5570]"
   ],
   "metadata": {
    "collapsed": false,
    "ExecuteTime": {
     "end_time": "2024-03-14T04:47:11.455864Z",
     "start_time": "2024-03-14T04:47:11.416107Z"
    }
   },
   "id": "d818b11fe64a81dd",
   "execution_count": 28
  },
  {
   "cell_type": "code",
   "outputs": [
    {
     "name": "stdout",
     "output_type": "stream",
     "text": [
      "5570\n"
     ]
    }
   ],
   "source": [
    "result = DPC(sequence, order=None)\n",
    "print(len(result[1:]))"
   ],
   "metadata": {
    "collapsed": false,
    "ExecuteTime": {
     "end_time": "2024-03-14T04:47:22.958351Z",
     "start_time": "2024-03-14T04:47:13.499674Z"
    }
   },
   "id": "da40284510bba0f",
   "execution_count": 29
  },
  {
   "cell_type": "code",
   "outputs": [],
   "source": [
    "import csv\n",
    "\n",
    "with open('../../data/Embedings/dpc.csv', 'w', newline='\\n') as csv_file:\n",
    "    writer = csv.writer(csv_file)\n",
    "    writer.writerows(result[1:])"
   ],
   "metadata": {
    "collapsed": false,
    "ExecuteTime": {
     "end_time": "2024-03-14T04:47:37.526026Z",
     "start_time": "2024-03-14T04:47:35.118444Z"
    }
   },
   "id": "5e1af4687a84c86f",
   "execution_count": 30
  },
  {
   "cell_type": "code",
   "outputs": [],
   "source": [],
   "metadata": {
    "collapsed": false
   },
   "id": "be24b4b44bb1924e"
  }
 ],
 "metadata": {
  "kernelspec": {
   "display_name": "Python 3",
   "language": "python",
   "name": "python3"
  },
  "language_info": {
   "codemirror_mode": {
    "name": "ipython",
    "version": 2
   },
   "file_extension": ".py",
   "mimetype": "text/x-python",
   "name": "python",
   "nbconvert_exporter": "python",
   "pygments_lexer": "ipython2",
   "version": "2.7.6"
  }
 },
 "nbformat": 4,
 "nbformat_minor": 5
}
