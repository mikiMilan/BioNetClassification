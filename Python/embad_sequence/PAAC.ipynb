{
 "cells": [
  {
   "cell_type": "code",
   "execution_count": 16,
   "id": "initial_id",
   "metadata": {
    "collapsed": true,
    "ExecuteTime": {
     "end_time": "2024-03-14T05:19:18.219191Z",
     "start_time": "2024-03-14T05:19:18.190647Z"
    }
   },
   "outputs": [],
   "source": [
    "#!/usr/bin/env python\n",
    "#_*_coding:utf-8_*_\n",
    "\n",
    "import re, sys, os, platform\n",
    "import math\n",
    "pPath = os.getcwd()\n",
    "sys.path.append(pPath)\n",
    "\n",
    "\n",
    "def minSequenceLengthWithNormalAA(fastas):\n",
    "\tminLen = 10000\n",
    "\tfor i in fastas:\n",
    "\t\tif minLen > len(re.sub('-', '', i[1])):\n",
    "\t\t\tminLen = len(re.sub('-', '', i[1]))\n",
    "\treturn minLen\n",
    "\n",
    "def Rvalue(aa1, aa2, AADict, Matrix):\n",
    "\treturn sum([(Matrix[i][AADict[aa1]] - Matrix[i][AADict[aa2]]) ** 2 for i in range(len(Matrix))]) / len(Matrix)\n",
    "\n",
    "def PAAC(fastas, lambdaValue=30, w=0.05, **kw):\n",
    "\tif minSequenceLengthWithNormalAA(fastas) < lambdaValue + 1:\n",
    "\t\tprint('Error: all the sequence length should be larger than the lambdaValue+1: ' + str(lambdaValue + 1) + '\\n\\n')\n",
    "\t\treturn 0\n",
    "\n",
    "\tdataFile = re.sub('codes$', '', pPath + r'\\..\\data\\PAAC.txt')\n",
    "\twith open(dataFile) as f:\n",
    "\t\trecords = f.readlines()\n",
    "\tAA = ''.join(records[0].rstrip().split()[1:])\n",
    "\tAADict = {}\n",
    "\tfor i in range(len(AA)):\n",
    "\t\tAADict[AA[i]] = i\n",
    "\tAAProperty = []\n",
    "\tAAPropertyNames = []\n",
    "\tfor i in range(1, len(records)):\n",
    "\t\tarray = records[i].rstrip().split() if records[i].rstrip() != '' else None\n",
    "\t\tAAProperty.append([float(j) for j in array[1:]])\n",
    "\t\tAAPropertyNames.append(array[0])\n",
    "\n",
    "\tAAProperty1 = []\n",
    "\tfor i in AAProperty:\n",
    "\t\tmeanI = sum(i) / 20\n",
    "\t\tfenmu = math.sqrt(sum([(j-meanI)**2 for j in i])/20)\n",
    "\t\tAAProperty1.append([(j-meanI)/fenmu for j in i])\n",
    "\n",
    "\tencodings = []\n",
    "\theader = ['#']\n",
    "\tfor aa in AA:\n",
    "\t\theader.append('Xc1.' + aa)\n",
    "\tfor n in range(1, lambdaValue + 1):\n",
    "\t\theader.append('Xc2.lambda' + str(n))\n",
    "\tencodings.append(header)\n",
    "\n",
    "\tfor i in fastas:\n",
    "\t\tname, sequence = i[0], re.sub('\\*', '', i[1])\n",
    "\t\tcode = [name]\n",
    "\t\ttheta = []\n",
    "\t\tfor n in range(1, lambdaValue + 1):\n",
    "\t\t\ttheta.append(\n",
    "\t\t\t\tsum([Rvalue(sequence[j], sequence[j + n], AADict, AAProperty1) for j in range(len(sequence) - n)]) / (\n",
    "\t\t\t\tlen(sequence) - n))\n",
    "\t\tmyDict = {}\n",
    "\t\tfor aa in AA:\n",
    "\t\t\tmyDict[aa] = sequence.count(aa)\n",
    "\t\tcode = code + [myDict[aa] / (1 + w * sum(theta)) for aa in AA]\n",
    "\t\tcode = code + [(w * j) / (1 + w * sum(theta)) for j in theta]\n",
    "\t\tencodings.append(code)\n",
    "\treturn encodings"
   ]
  },
  {
   "cell_type": "code",
   "outputs": [],
   "source": [
    "sequence = []\n",
    "with open('../../data/sequences.txt', 'r') as file_seq:\n",
    "    for line in file_seq:\n",
    "        line = line.strip()\n",
    "        fasta = line.split(\" \")\n",
    "        sequence.append([fasta[0], fasta[2]])\n",
    "sequence = sequence[:5570]"
   ],
   "metadata": {
    "collapsed": false,
    "ExecuteTime": {
     "end_time": "2024-03-14T05:14:59.049667Z",
     "start_time": "2024-03-14T05:14:59.006022Z"
    }
   },
   "id": "d818b11fe64a81dd",
   "execution_count": 13
  },
  {
   "cell_type": "code",
   "outputs": [
    {
     "name": "stdout",
     "output_type": "stream",
     "text": [
      "YDL133C-A 26\n",
      "YDL184C 26\n",
      "YGR174W-A 29\n",
      "YOR302W 26\n"
     ]
    }
   ],
   "source": [
    "for (name, seq) in sequence:\n",
    "\tif len(seq)<30:\n",
    "\t\tprint(name, len(seq))"
   ],
   "metadata": {
    "collapsed": false,
    "ExecuteTime": {
     "end_time": "2024-03-14T05:15:12.207879Z",
     "start_time": "2024-03-14T05:15:12.189611Z"
    }
   },
   "id": "5291d802eab07520",
   "execution_count": 14
  },
  {
   "cell_type": "code",
   "outputs": [
    {
     "name": "stdout",
     "output_type": "stream",
     "text": [
      "5571\n",
      "['#', 'Xc1.A', 'Xc1.R', 'Xc1.N', 'Xc1.D', 'Xc1.C', 'Xc1.Q', 'Xc1.E', 'Xc1.G', 'Xc1.H', 'Xc1.I', 'Xc1.L', 'Xc1.K', 'Xc1.M', 'Xc1.F', 'Xc1.P', 'Xc1.S', 'Xc1.T', 'Xc1.W', 'Xc1.Y', 'Xc1.V', 'Xc2.lambda1', 'Xc2.lambda2', 'Xc2.lambda3', 'Xc2.lambda4', 'Xc2.lambda5', 'Xc2.lambda6', 'Xc2.lambda7', 'Xc2.lambda8', 'Xc2.lambda9', 'Xc2.lambda10', 'Xc2.lambda11', 'Xc2.lambda12', 'Xc2.lambda13', 'Xc2.lambda14', 'Xc2.lambda15', 'Xc2.lambda16', 'Xc2.lambda17', 'Xc2.lambda18', 'Xc2.lambda19', 'Xc2.lambda20']\n",
      "['YDR143C', 15.86967934282538, 13.885969424972208, 31.73935868565076, 13.885969424972208, 2.380451901423807, 12.299001490689669, 14.282711408542841, 16.66316330996665, 5.157645786418248, 7.93483967141269, 12.695743474260304, 5.554387769988883, 1.1902259507119035, 6.744613720700786, 17.85338926067855, 31.73935868565076, 17.85338926067855, 0.793483967141269, 3.173935868565076, 10.315291572836497, 0.028234574505726494, 0.02951695024168461, 0.028293129499611866, 0.029734482629103116, 0.030147553568006014, 0.031763261770663256, 0.03079336028495179, 0.029715174851091198, 0.03063725287724726, 0.029751653416932533, 0.02986241648876561, 0.029242290405744616, 0.030590553773363647, 0.027646288158515747, 0.0296457192084775, 0.0313718491845652, 0.030152608899564847, 0.030368658084896406, 0.0331251304535404, 0.032665108126913416]\n"
     ]
    }
   ],
   "source": [
    "result = PAAC(sequence, order=None, lambdaValue=20)\n",
    "print(len(result))\n",
    "print(result[0])\n",
    "print(result[1])"
   ],
   "metadata": {
    "collapsed": false,
    "ExecuteTime": {
     "end_time": "2024-03-14T05:26:01.371626Z",
     "start_time": "2024-03-14T05:24:28.663579Z"
    }
   },
   "id": "da40284510bba0f",
   "execution_count": 21
  },
  {
   "cell_type": "code",
   "outputs": [],
   "source": [
    "import csv\n",
    "\n",
    "with open('../../data/Embedings/paac.csv', 'w', newline='\\n') as csv_file:\n",
    "    writer = csv.writer(csv_file)\n",
    "    writer.writerows(result[1:])"
   ],
   "metadata": {
    "collapsed": false,
    "ExecuteTime": {
     "end_time": "2024-03-14T05:36:15.444147Z",
     "start_time": "2024-03-14T05:36:15.132785Z"
    }
   },
   "id": "5e1af4687a84c86f",
   "execution_count": 23
  },
  {
   "cell_type": "code",
   "outputs": [],
   "source": [],
   "metadata": {
    "collapsed": false
   },
   "id": "be24b4b44bb1924e"
  }
 ],
 "metadata": {
  "kernelspec": {
   "display_name": "Python 3",
   "language": "python",
   "name": "python3"
  },
  "language_info": {
   "codemirror_mode": {
    "name": "ipython",
    "version": 2
   },
   "file_extension": ".py",
   "mimetype": "text/x-python",
   "name": "python",
   "nbconvert_exporter": "python",
   "pygments_lexer": "ipython2",
   "version": "2.7.6"
  }
 },
 "nbformat": 4,
 "nbformat_minor": 5
}
