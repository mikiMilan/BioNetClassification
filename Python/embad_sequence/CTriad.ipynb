{
 "cells": [
  {
   "cell_type": "code",
   "execution_count": 1,
   "id": "initial_id",
   "metadata": {
    "collapsed": true,
    "ExecuteTime": {
     "end_time": "2024-03-14T04:42:38.226952Z",
     "start_time": "2024-03-14T04:42:38.199525Z"
    }
   },
   "outputs": [],
   "source": [
    "#!/usr/bin/env python\n",
    "#_*_coding:utf-8_*_\n",
    "\n",
    "import re\n",
    "\n",
    "\n",
    "def CalculateKSCTriad(sequence, gap, features, AADict):\n",
    "\tres = []\n",
    "\tfor g in range(gap+1):\n",
    "\t\tmyDict = {}\n",
    "\t\tfor f in features:\n",
    "\t\t\tmyDict[f] = 0\n",
    "\n",
    "\t\tfor i in range(len(sequence)):\n",
    "\t\t\tif i+gap+1 < len(sequence) and i+2*gap+2<len(sequence):\n",
    "\t\t\t\tfea = AADict[sequence[i]] + '.' + AADict[sequence[i+gap+1]]+'.'+AADict[sequence[i+2*gap+2]]\n",
    "\t\t\t\tmyDict[fea] = myDict[fea] + 1\n",
    "\n",
    "\t\tmaxValue, minValue = max(myDict.values()), min(myDict.values())\n",
    "\t\tfor f in features:\n",
    "\t\t\tres.append((myDict[f] - minValue) / maxValue)\n",
    "\n",
    "\treturn res\n",
    "\n",
    "def CTriad(fastas, gap = 0, **kw):\n",
    "\tAAGroup = {\n",
    "\t\t'g1': 'AGV',\n",
    "\t\t'g2': 'ILFP',\n",
    "\t\t'g3': 'YMTS',\n",
    "\t\t'g4': 'HNQW',\n",
    "\t\t'g5': 'RK',\n",
    "\t\t'g6': 'DE',\n",
    "\t\t'g7': 'C'\n",
    "\t}\n",
    "\n",
    "\tmyGroups = sorted(AAGroup.keys())\n",
    "\n",
    "\tAADict = {}\n",
    "\tfor g in myGroups:\n",
    "\t\tfor aa in AAGroup[g]:\n",
    "\t\t\tAADict[aa] = g\n",
    "\n",
    "\tfeatures = [f1 + '.'+ f2 + '.' + f3 for f1 in myGroups for f2 in myGroups for f3 in myGroups]\n",
    "\n",
    "\tencodings = []\n",
    "\theader = ['#']\n",
    "\tfor f in features:\n",
    "\t\theader.append(f)\n",
    "\tencodings.append(header)\n",
    "\n",
    "\tfor i in fastas:\n",
    "\t\tname, sequence = i[0], re.sub('\\*', '', i[1])\n",
    "\t\tcode = [name]\n",
    "\t\tif len(sequence) < 3:\n",
    "\t\t\tprint('Error: for \"CTriad\" encoding, the input fasta sequences should be greater than 3. \\n\\n')\n",
    "\t\t\treturn 0\n",
    "\t\tcode = code + CalculateKSCTriad(sequence, 0, features, AADict)\n",
    "\t\tencodings.append(code)\n",
    "\n",
    "\treturn encodings"
   ]
  },
  {
   "cell_type": "code",
   "outputs": [],
   "source": [
    "sequence = []\n",
    "with open('../../data/sequences.txt', 'r') as file_seq:\n",
    "    for line in file_seq:\n",
    "        line = line.strip()\n",
    "        fasta = line.split(\" \")\n",
    "        sequence.append([fasta[0], fasta[2]])\n",
    "sequence = sequence[:5570]"
   ],
   "metadata": {
    "collapsed": false,
    "ExecuteTime": {
     "end_time": "2024-03-14T04:42:48.130300Z",
     "start_time": "2024-03-14T04:42:48.086699Z"
    }
   },
   "id": "d818b11fe64a81dd",
   "execution_count": 2
  },
  {
   "cell_type": "code",
   "outputs": [
    {
     "name": "stdout",
     "output_type": "stream",
     "text": [
      "5570\n"
     ]
    }
   ],
   "source": [
    "result = CTriad(sequence, order=None)\n",
    "print(len(result[1:]))"
   ],
   "metadata": {
    "collapsed": false,
    "ExecuteTime": {
     "end_time": "2024-03-14T04:46:40.818716Z",
     "start_time": "2024-03-14T04:46:37.898272Z"
    }
   },
   "id": "da40284510bba0f",
   "execution_count": 5
  },
  {
   "cell_type": "code",
   "outputs": [],
   "source": [
    "import csv\n",
    "\n",
    "with open('../../data/Embedings/ctriad.csv', 'w', newline='\\n') as csv_file:\n",
    "    writer = csv.writer(csv_file)\n",
    "    writer.writerows(result[1:])"
   ],
   "metadata": {
    "collapsed": false,
    "ExecuteTime": {
     "end_time": "2024-03-14T05:36:00.703141Z",
     "start_time": "2024-03-14T05:35:59.198232Z"
    }
   },
   "id": "5e1af4687a84c86f",
   "execution_count": 6
  },
  {
   "cell_type": "code",
   "outputs": [],
   "source": [],
   "metadata": {
    "collapsed": false
   },
   "id": "be24b4b44bb1924e"
  }
 ],
 "metadata": {
  "kernelspec": {
   "display_name": "Python 3",
   "language": "python",
   "name": "python3"
  },
  "language_info": {
   "codemirror_mode": {
    "name": "ipython",
    "version": 2
   },
   "file_extension": ".py",
   "mimetype": "text/x-python",
   "name": "python",
   "nbconvert_exporter": "python",
   "pygments_lexer": "ipython2",
   "version": "2.7.6"
  }
 },
 "nbformat": 4,
 "nbformat_minor": 5
}
