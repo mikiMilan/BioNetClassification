{
 "cells": [
  {
   "cell_type": "code",
   "execution_count": null,
   "id": "e129c90d",
   "metadata": {},
   "outputs": [],
   "source": [
    "import pandas as pd\n",
    "import numpy as np"
   ]
  },
  {
   "cell_type": "code",
   "execution_count": null,
   "id": "be77acd9",
   "metadata": {},
   "outputs": [],
   "source": [
    "df1 = pd.read_csv(\"../Data/NewFeatures/disorderPromoting.csv\", header=None)\n",
    "df1Columns = [f\"disorderPromoting{i}\" for i in range(1, df1.shape[1])]\n",
    "df1Columns.insert(0, \"node\")\n",
    "df1.columns = df1Columns\n",
    "df1"
   ]
  },
  {
   "cell_type": "code",
   "execution_count": null,
   "id": "0bc2983f",
   "metadata": {},
   "outputs": [],
   "source": [
    "df2 = pd.read_csv(\"../Data/NewFeatures/hc.csv\", header=None)\n",
    "df2Columns = [f\"hc{i}\" for i in range(1, df2.shape[1])]\n",
    "df2Columns.insert(0, \"node\")\n",
    "df2.columns = df2Columns\n",
    "df2"
   ]
  },
  {
   "cell_type": "code",
   "execution_count": null,
   "id": "2629e738",
   "metadata": {},
   "outputs": [],
   "source": [
    "df2ColumnsWONode = df2Columns[1:]\n",
    "for col in df2ColumnsWONode:\n",
    "    df2[col].fillna(df2[col].mean(), inplace= True)\n",
    "    \n",
    "df2.isna().sum()"
   ]
  },
  {
   "cell_type": "code",
   "execution_count": null,
   "id": "a02e0a11",
   "metadata": {},
   "outputs": [],
   "source": [
    "df3 = pd.read_csv(\"../Data/NewFeatures/hidrofobik.csv\", header=None)\n",
    "df3Columns = [f\"hidrofobik{i}\" for i in range(1, df3.shape[1])]\n",
    "df3Columns.insert(0, \"node\")\n",
    "df3.columns = df3Columns\n",
    "df3"
   ]
  },
  {
   "cell_type": "code",
   "execution_count": null,
   "id": "5e7e30e1",
   "metadata": {},
   "outputs": [],
   "source": [
    "df4 = pd.read_csv(\"../Data/NewFeatures/nonZero.csv\", header=None)\n",
    "df4Columns = [f\"nonZero{i}\" for i in range(1, df4.shape[1])]\n",
    "df4Columns.insert(0, \"node\")\n",
    "df4.columns = df4Columns\n",
    "df4"
   ]
  },
  {
   "cell_type": "code",
   "execution_count": null,
   "id": "f5b7936a",
   "metadata": {},
   "outputs": [],
   "source": [
    "df5 = pd.read_csv(\"../Data/NewFeatures/polar.csv\", header=None)\n",
    "df5Columns = [f\"polar{i}\" for i in range(1, df5.shape[1])]\n",
    "df5Columns.insert(0, \"node\")\n",
    "df5.columns = df5Columns\n",
    "df5"
   ]
  },
  {
   "cell_type": "code",
   "execution_count": null,
   "id": "86f6a2dd",
   "metadata": {},
   "outputs": [],
   "source": [
    "df6 = pd.read_csv(\"../Data/NewFeatures/positive.csv\", header=None)\n",
    "df6Columns = [f\"positive{i}\" for i in range(1, df6.shape[1])]\n",
    "df6Columns.insert(0, \"node\")\n",
    "df6.columns = df6Columns\n",
    "df6"
   ]
  },
  {
   "cell_type": "code",
   "execution_count": null,
   "id": "da3ca8d5",
   "metadata": {},
   "outputs": [],
   "source": [
    "merged_df = pd.merge(df1, df2, on='node')\n",
    "merged_df = pd.merge(merged_df, df3, on='node')\n",
    "merged_df = pd.merge(merged_df, df4, on='node')\n",
    "merged_df = pd.merge(merged_df, df5, on='node')\n",
    "merged_df = pd.merge(merged_df, df6, on='node')\n",
    "merged_df"
   ]
  },
  {
   "cell_type": "code",
   "execution_count": null,
   "id": "62234f3d",
   "metadata": {},
   "outputs": [],
   "source": [
    "#dataFrame = dataFrame[dataFrame.columns[0:15]]\n",
    "#dataFrame"
   ]
  },
  {
   "cell_type": "code",
   "execution_count": null,
   "id": "5bd92445",
   "metadata": {},
   "outputs": [],
   "source": [
    "#L = [(dataFrame.columns[0])]\n",
    "#L +=  list(dataFrame.columns[15:29])\n",
    "#dataFrame = dataFrame[L]\n",
    "#dataFrame"
   ]
  },
  {
   "cell_type": "code",
   "execution_count": null,
   "id": "bbcf56c4",
   "metadata": {},
   "outputs": [],
   "source": [
    "with open (\"../Data/yeast/disprotYeast194.txt\", \"r\") as inputFile:\n",
    "    disProt = [line.strip() for line in inputFile]"
   ]
  },
  {
   "cell_type": "code",
   "execution_count": null,
   "id": "d3e1284f",
   "metadata": {},
   "outputs": [],
   "source": [
    "def assignLabel(node, IDPs):\n",
    "    if node in IDPs:\n",
    "        return 1\n",
    "    return 0"
   ]
  },
  {
   "cell_type": "code",
   "execution_count": null,
   "id": "bb89df96",
   "metadata": {},
   "outputs": [],
   "source": [
    "labels = []\n",
    "for node in merged_df[\"node\"]:\n",
    "    labels.append(assignLabel(node, disProt))\n",
    "    \n",
    "merged_df.insert(1, \"label\", labels)\n",
    "merged_df"
   ]
  },
  {
   "cell_type": "code",
   "execution_count": null,
   "id": "b165e7fc",
   "metadata": {},
   "outputs": [],
   "source": [
    "embeding = pd.read_csv(\"../Data/NewEmbedings/embed_p2_q1_notW.csv\", header=None)\n",
    "embeding"
   ]
  },
  {
   "cell_type": "code",
   "execution_count": null,
   "id": "ae951ff2",
   "metadata": {},
   "outputs": [],
   "source": [
    "columnsEmbeding = [f\"embeding{i}\" for i in range(1, embeding.shape[1])]\n",
    "columnsEmbeding.insert(0, \"node\")\n",
    "embeding.columns = columnsEmbeding\n",
    "embeding"
   ]
  },
  {
   "cell_type": "code",
   "execution_count": null,
   "id": "3e5c63ae",
   "metadata": {},
   "outputs": [],
   "source": [
    "merged_df = pd.merge(merged_df, embeding, on='node')\n",
    "merged_df"
   ]
  },
  {
   "cell_type": "code",
   "execution_count": null,
   "id": "a34598ff",
   "metadata": {},
   "outputs": [],
   "source": [
    "for col in merged_df.columns:\n",
    "    print(col)"
   ]
  },
  {
   "cell_type": "code",
   "execution_count": null,
   "id": "1484e67a",
   "metadata": {},
   "outputs": [],
   "source": [
    "x = merged_df[merged_df.columns[2::]]\n",
    "x"
   ]
  },
  {
   "cell_type": "code",
   "execution_count": null,
   "id": "bd4a3187",
   "metadata": {},
   "outputs": [],
   "source": [
    "y = merged_df[\"label\"]\n",
    "y"
   ]
  },
  {
   "cell_type": "code",
   "execution_count": null,
   "id": "a721606f",
   "metadata": {},
   "outputs": [],
   "source": [
    "import imblearn as im\n",
    "from matplotlib import pyplot as plt\n",
    "from sklearn.metrics import confusion_matrix\n",
    "from imblearn.metrics import classification_report_imbalanced\n",
    "from collections import Counter\n",
    "from sklearn.decomposition import PCA\n",
    "import numpy as np\n",
    "\n",
    "def report_imbalanced(model, x, y, text = \"training\"):\n",
    "    y_pred = model.predict(x)\n",
    "    \n",
    "    print(\"Classification report for model {} on {} data\".format(type(model).__name__, text))\n",
    "    print(\"---------------------------------------------------------------------------------\")\n",
    "    print(classification_report_imbalanced(y, y_pred, zero_division=True))\n",
    "    print(\"---------------------------------------------------------------------------------\")\n",
    "    \n",
    "    print(\"Confusion matrix for model {} on {} data \".format(type(model).__name__, text))\n",
    "    print(\"---------------------------------------------------------------------------------\")\n",
    "    print(pd.DataFrame(confusion_matrix(y, y_pred), columns=['0', '1'], index=['0', '1']))\n",
    "    print(\"---------------------------------------------------------------------------------\")\n",
    "\n",
    "def resample(sampler, x, y):\n",
    "    x_resampled, y_resampled = sampler.fit_resample(x, y)\n",
    "    print(\"Number of instances before resampling with {} : {}. \".format(type(sampler).__name__,\\\n",
    "                                                                           Counter(y).items()))\n",
    "    print(\"Number of instances after  resampling with {} : {}. \".format(type(sampler).__name__,\\\n",
    "                                                                           Counter(y_resampled).items()))\n",
    "    return x_resampled, y_resampled\n",
    "\n",
    "def visualize(x, x_resampled, y, y_resampled, x_opacity=0.5):\n",
    "    \n",
    "    pca = PCA(n_components=2)\n",
    "    pca.fit(x)\n",
    "    \n",
    "    x_pca = pca.transform(x)\n",
    "    x_resampled_pca = pca.transform(x_resampled) \n",
    "    \n",
    "    x_stacked = [x_pca, x_resampled_pca]\n",
    "    y_stacked = [y, y_resampled]\n",
    "    \n",
    "    fig = plt.figure(figsize=(20, 5))\n",
    "    \n",
    "    for i in range(2):\n",
    "        ax = plt.subplot(1, 2, i + 1)\n",
    "        colors = ['b' if y == 0 else 'r' for y in y_stacked[i]]\n",
    "        alpha = [x_opacity if y == -1 else 1 - x_opacity for y in y_stacked[i]]\n",
    "        plt.scatter(x_stacked[i][:, 0], x_stacked[i][:, 1], c=colors, alpha=alpha)\n",
    "        plt.title('{} resampling'.format(\"After\" if i else \"Before\"), c = 'blue' if i else 'green')\n",
    "    plt.show()\n",
    "    \n",
    "def train_and_evaluate_model(model, x_train, y_train, x_test, y_test):\n",
    "    model.fit(x_train, y_train)\n",
    "    report_imbalanced(model, x_train, y_train, \"training\")\n",
    "    report_imbalanced(model, x_test, y_test, \"test\")\n",
    "    return model"
   ]
  },
  {
   "cell_type": "code",
   "execution_count": null,
   "id": "4c7db7d2",
   "metadata": {},
   "outputs": [],
   "source": [
    "from sklearn.model_selection import train_test_split\n",
    "\n",
    "x_train, x_test, y_train, y_test = train_test_split(x, y, test_size=0.3, stratify=y)"
   ]
  },
  {
   "cell_type": "code",
   "execution_count": null,
   "id": "4aa9f306",
   "metadata": {},
   "outputs": [],
   "source": [
    "'''\n",
    "from sklearn.preprocessing import MinMaxScaler, StandardScaler\n",
    "scaler = MinMaxScaler()\n",
    "scaler.fit(x_train)\n",
    "x_train = pd.DataFrame(scaler.transform(x_train), columns=x_train.columns)\n",
    "x_test = pd.DataFrame(scaler.transform(x_test), columns=x_test.columns)\n",
    "''';"
   ]
  },
  {
   "cell_type": "code",
   "execution_count": null,
   "id": "6b96545e",
   "metadata": {},
   "outputs": [],
   "source": [
    "'''\n",
    "from imblearn.over_sampling import SMOTE\n",
    "smote = SMOTE(sampling_strategy= 0.2)\n",
    "x_resampled, y_resampled = resample(smote, x_train, y_train)\n",
    "visualize(x_train, x_resampled, y_train, y_resampled, 0)\n",
    "''';"
   ]
  },
  {
   "cell_type": "code",
   "execution_count": null,
   "id": "221a32dc",
   "metadata": {},
   "outputs": [],
   "source": [
    "#x_resampled = x_train\n",
    "#y_resampled = y_train"
   ]
  },
  {
   "cell_type": "code",
   "execution_count": null,
   "id": "dc8c1c07",
   "metadata": {},
   "outputs": [],
   "source": [
    "\n",
    "from imblearn.combine import SMOTEENN\n",
    "smoteenn = SMOTEENN(sampling_strategy= 0.5)\n",
    "x_resampled, y_resampled = resample(smoteenn, x_train, y_train)\n",
    "visualize(x_train, x_resampled, y_train, y_resampled, 0.5)\n"
   ]
  },
  {
   "cell_type": "code",
   "execution_count": null,
   "id": "41dcffa9",
   "metadata": {},
   "outputs": [],
   "source": [
    "\n",
    "from sklearn.preprocessing import MinMaxScaler, StandardScaler\n",
    "scaler = MinMaxScaler()\n",
    "scaler.fit(x_resampled)\n",
    "x_resampled = pd.DataFrame(scaler.transform(x_resampled), columns=x_resampled.columns)\n",
    "x_test = pd.DataFrame(scaler.transform(x_test), columns=x_test.columns)\n"
   ]
  },
  {
   "cell_type": "code",
   "execution_count": null,
   "id": "f47a42b6",
   "metadata": {},
   "outputs": [],
   "source": [
    "#from sklearn.model_selection import GridSearchCV\n",
    "\n",
    "#params = {'n_neighbors': range(5, 20, 2),\n",
    "          #'weights': ['uniform', 'distance'],\n",
    "          #'p': [1, 2]\n",
    "        # }"
   ]
  },
  {
   "cell_type": "code",
   "execution_count": null,
   "id": "48ad1209",
   "metadata": {},
   "outputs": [],
   "source": [
    "#import xgboost as xgb\n",
    "\n",
    "#model = xgb.XGBClassifier()\n",
    "#model.fit(x_resampled, y_resampled)"
   ]
  },
  {
   "cell_type": "code",
   "execution_count": null,
   "id": "8349f7a1",
   "metadata": {},
   "outputs": [],
   "source": [
    "#from sklearn.ensemble import RandomForestClassifier\n",
    "\n",
    "#model = RandomForestClassifier(n_estimators=100)\n",
    "#model.fit(x_resampled, y_resampled)"
   ]
  },
  {
   "cell_type": "code",
   "execution_count": null,
   "id": "219aa047",
   "metadata": {},
   "outputs": [],
   "source": [
    "#from sklearn.ensemble import AdaBoostClassifier\n",
    "\n",
    "#model = AdaBoostClassifier(n_estimators=50)\n",
    "#model.fit(x_resampled, y_resampled)"
   ]
  },
  {
   "cell_type": "code",
   "execution_count": null,
   "id": "5f4036ca",
   "metadata": {},
   "outputs": [],
   "source": [
    "#from sklearn.ensemble import GradientBoostingClassifier\n",
    "\n",
    "#model = GradientBoostingClassifier(n_estimators=100, learning_rate=0.1, max_depth=3)\n",
    "#model.fit(x_resampled, y_resampled)"
   ]
  },
  {
   "cell_type": "code",
   "execution_count": null,
   "id": "96537f40",
   "metadata": {},
   "outputs": [],
   "source": [
    "#from sklearn.svm import SVC\n",
    "\n",
    "#model = SVC()\n",
    "#model.fit(x_resampled, y_resampled)"
   ]
  },
  {
   "cell_type": "code",
   "execution_count": null,
   "id": "3114bf13",
   "metadata": {},
   "outputs": [],
   "source": [
    "#from sklearn.svm import SVC\n",
    "#from sklearn.model_selection import GridSearchCV\n",
    "\n",
    "#params = [\n",
    "           # {\n",
    "                #'kernel': ['linear'],\n",
    "                #'C': [0.01, 0.1, 1, 10],\n",
    "            #},\n",
    "            #{\n",
    "             #   'kernel': ['rbf', 'poly', 'sigmoid'],\n",
    "              #  'C': [0.01, 0.1, 1, 10],\n",
    "              #  'gamma': [0.01, 0.1, 1, 10],\n",
    "            #},\n",
    "        # ]"
   ]
  },
  {
   "cell_type": "code",
   "execution_count": null,
   "id": "0317657b",
   "metadata": {},
   "outputs": [],
   "source": [
    "#estimator = GridSearchCV(SVC(), params, scoring='recall', cv=5, verbose=5)\n",
    "#estimator.fit(x_resampled, y_resampled)\n",
    "#model = estimator.best_estimator_"
   ]
  },
  {
   "cell_type": "code",
   "execution_count": null,
   "id": "89950637",
   "metadata": {},
   "outputs": [],
   "source": [
    "'''\n",
    "from sklearn.model_selection import GridSearchCV\n",
    "from sklearn.ensemble import RandomForestClassifier\n",
    "from sklearn.tree import DecisionTreeClassifier\n",
    "\n",
    "params = {\n",
    "    'max_depth': [None, 10, 20, 30],\n",
    "    'min_samples_split': [2, 5, 10],\n",
    "    'min_samples_leaf': [1, 2, 4],\n",
    "    'criterion': ['gini', 'entropy']\n",
    "}\n",
    "\n",
    "estimator = GridSearchCV(RandomForestClassifier(), param_grid=params, cv=3, scoring='f1')\n",
    "estimator.fit(x_resampled, y_resampled)\n",
    "model = estimator.best_estimator_\n",
    "''';"
   ]
  },
  {
   "cell_type": "code",
   "execution_count": null,
   "id": "c20b4b37",
   "metadata": {},
   "outputs": [],
   "source": [
    "\n",
    "import numpy as np\n",
    "from sklearn.ensemble import VotingClassifier\n",
    "from sklearn.neighbors import KNeighborsClassifier\n",
    "from sklearn.ensemble import BaggingClassifier\n",
    "from sklearn.model_selection import GridSearchCV\n",
    "\n",
    "params = {'n_neighbors': range(5, 20, 1),\n",
    "          'weights': ['uniform', 'distance'],\n",
    "          'p': [1, 2]\n",
    "         }\n",
    "\n",
    "\n",
    "columnsFirstClassifier = list(x_resampled.columns[:10])\n",
    "columnsFirstClassifier += list(x_resampled.columns[60:])\n",
    "columnsSecondClassifier = list(x_resampled.columns[10:60])\n",
    "\n",
    "x_train_firstClassifier = x_resampled[columnsFirstClassifier]\n",
    "x_train_secondClassifier = x_resampled[columnsSecondClassifier]\n",
    "\n",
    "estimator1 = GridSearchCV(KNeighborsClassifier(), param_grid=params, cv=5, scoring= \"f1\")\n",
    "estimator1.fit(x_train_firstClassifier, y_resampled)\n",
    "\n",
    "clf1 = BaggingClassifier(estimator=estimator1.best_estimator_, n_estimators=50)\n",
    "clf1.fit(x_train_firstClassifier, y_resampled)\n",
    "\n",
    "estimator2 = GridSearchCV(KNeighborsClassifier(), param_grid=params, cv=5, scoring= \"f1\")\n",
    "estimator2.fit(x_train_secondClassifier, y_resampled)\n",
    "\n",
    "clf2 = BaggingClassifier(estimator=estimator2.best_estimator_, n_estimators=50)\n",
    "clf2.fit(x_train_secondClassifier, y_resampled)\n",
    "\n",
    "\n",
    "model = VotingClassifier(estimators=[('clf1', clf1), ('clf2', clf2)], voting='soft')\n",
    "\n",
    "model.fit(x_resampled, y_resampled)\n"
   ]
  },
  {
   "cell_type": "code",
   "execution_count": null,
   "id": "d5bcca88",
   "metadata": {},
   "outputs": [],
   "source": [
    "#report_imbalanced(model, x_resampled, y_resampled, \"Training\")"
   ]
  },
  {
   "cell_type": "code",
   "execution_count": null,
   "id": "1adda421",
   "metadata": {},
   "outputs": [],
   "source": [
    "report_imbalanced(model, x_test, y_test, \"Test\")"
   ]
  },
  {
   "cell_type": "code",
   "execution_count": null,
   "id": "0c11207b",
   "metadata": {},
   "outputs": [],
   "source": []
  }
 ],
 "metadata": {
  "kernelspec": {
   "display_name": "Python 3 (ipykernel)",
   "language": "python",
   "name": "python3"
  },
  "language_info": {
   "codemirror_mode": {
    "name": "ipython",
    "version": 3
   },
   "file_extension": ".py",
   "mimetype": "text/x-python",
   "name": "python",
   "nbconvert_exporter": "python",
   "pygments_lexer": "ipython3",
   "version": "3.9.12"
  },
  "varInspector": {
   "cols": {
    "lenName": 16,
    "lenType": 16,
    "lenVar": 40
   },
   "kernels_config": {
    "python": {
     "delete_cmd_postfix": "",
     "delete_cmd_prefix": "del ",
     "library": "var_list.py",
     "varRefreshCmd": "print(var_dic_list())"
    },
    "r": {
     "delete_cmd_postfix": ") ",
     "delete_cmd_prefix": "rm(",
     "library": "var_list.r",
     "varRefreshCmd": "cat(var_dic_list()) "
    }
   },
   "types_to_exclude": [
    "module",
    "function",
    "builtin_function_or_method",
    "instance",
    "_Feature"
   ],
   "window_display": false
  }
 },
 "nbformat": 4,
 "nbformat_minor": 5
}
